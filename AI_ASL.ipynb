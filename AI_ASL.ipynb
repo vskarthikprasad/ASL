{
  "nbformat": 4,
  "nbformat_minor": 0,
  "metadata": {
    "colab": {
      "name": "AI_ASL.ipynb",
      "provenance": [],
      "collapsed_sections": []
    },
    "kernelspec": {
      "name": "python3",
      "display_name": "Python 3"
    },
    "accelerator": "GPU"
  },
  "cells": [
    {
      "cell_type": "code",
      "metadata": {
        "id": "JXVvu3dlZBCj"
      },
      "source": [
        "import tensorflow as tf\n",
        "import keras\n",
        "import os,shutil\n",
        "import numpy as np \n",
        "from keras.preprocessing.image import ImageDataGenerator\n",
        "from keras.applications import MobileNet\n",
        "from keras.models import Model,Sequential\n",
        "from keras.layers import Dense,MaxPool2D,Conv2D,Dropout,ZeroPadding2D,Flatten,Activation\n",
        "from keras.layers.normalization import BatchNormalization\n",
        "from keras.optimizers import Adam\n",
        "from keras.preprocessing import image\n",
        "from keras import optimizers\n",
        "from keras.models import load_model"
      ],
      "execution_count": null,
      "outputs": []
    },
    {
      "cell_type": "code",
      "metadata": {
        "id": "qv1Kiz1-ZcB_",
        "outputId": "d0dc4562-6ed6-4b2d-dcec-b61609d9bf6e",
        "colab": {
          "base_uri": "https://localhost:8080/",
          "height": 122
        }
      },
      "source": [
        "from google.colab import drive\n",
        "drive.mount('/content/drive')"
      ],
      "execution_count": null,
      "outputs": [
        {
          "output_type": "stream",
          "text": [
            "Go to this URL in a browser: https://accounts.google.com/o/oauth2/auth?client_id=947318989803-6bn6qk8qdgf4n4g3pfee6491hc0brc4i.apps.googleusercontent.com&redirect_uri=urn%3aietf%3awg%3aoauth%3a2.0%3aoob&scope=email%20https%3a%2f%2fwww.googleapis.com%2fauth%2fdocs.test%20https%3a%2f%2fwww.googleapis.com%2fauth%2fdrive%20https%3a%2f%2fwww.googleapis.com%2fauth%2fdrive.photos.readonly%20https%3a%2f%2fwww.googleapis.com%2fauth%2fpeopleapi.readonly&response_type=code\n",
            "\n",
            "Enter your authorization code:\n",
            "··········\n",
            "Mounted at /content/drive\n"
          ],
          "name": "stdout"
        }
      ]
    },
    {
      "cell_type": "code",
      "metadata": {
        "id": "nVzsWJ_zZddq"
      },
      "source": [
        "#run only once\n",
        "!unzip '/content/drive/My Drive/23079_29550_bundle_archive.zip'"
      ],
      "execution_count": null,
      "outputs": []
    },
    {
      "cell_type": "code",
      "metadata": {
        "id": "LBkOfjD5aMk2"
      },
      "source": [
        "TRAIN_DIR=r'/content/asl_alphabet_train/asl_alphabet_train'\n",
        "TEST_DIR=r'/content/asl_alphabet_test/asl_alphabet_test'"
      ],
      "execution_count": null,
      "outputs": []
    },
    {
      "cell_type": "code",
      "metadata": {
        "id": "Epn9-HOFalFu"
      },
      "source": [
        "for i in os.listdir(TRAIN_DIR):\n",
        "  print(i,len(os.listdir(TRAIN_DIR+'/'+i)))"
      ],
      "execution_count": null,
      "outputs": []
    },
    {
      "cell_type": "code",
      "metadata": {
        "id": "A6rr61Emmc5K"
      },
      "source": [
        "#run only once\n",
        "os.mkdir('/content/train2')\n",
        "os.mkdir('/content/test2')\n",
        "for cat in os.listdir(TRAIN_DIR):\n",
        "  os.mkdir('train2/'+cat)\n",
        "  os.mkdir('test2/'+cat)"
      ],
      "execution_count": null,
      "outputs": []
    },
    {
      "cell_type": "code",
      "metadata": {
        "id": "BDlSuBrMgTQp"
      },
      "source": [
        "\n",
        "#run only once\n",
        "for cat in os.listdir(TRAIN_DIR):\n",
        "  n = len(os.listdir(TRAIN_DIR + '/' + cat))\n",
        "  bpoint=n//8\n",
        "  t=np.arange(1,n+1)\n",
        "  np.random.shuffle(t)\n",
        "  ttest = t[:bpoint]\n",
        "  ttrain = t[bpoint:]\n",
        "  for x in ttest:\n",
        "    shutil.copy(TRAIN_DIR+'/'+cat+'/'+cat + str(x) + '.jpg' , '/content/test2/'+cat+'/'+cat+str(x)+'.jpg')\n",
        "  for x in ttrain:\n",
        "    shutil.copy(TRAIN_DIR+'/'+cat+'/'+cat + str(x) + '.jpg' , '/content/train2/'+cat+'/'+cat+str(x)+'.jpg')"
      ],
      "execution_count": null,
      "outputs": []
    },
    {
      "cell_type": "code",
      "metadata": {
        "id": "6xLG0Sy7nlH0"
      },
      "source": [
        "train = '/content/train2'\n",
        "test =  '/content/test2'"
      ],
      "execution_count": null,
      "outputs": []
    },
    {
      "cell_type": "code",
      "metadata": {
        "id": "Bg72dioBn-HO",
        "outputId": "a1c21619-5fe5-44e5-dc81-13e17403679d",
        "colab": {
          "base_uri": "https://localhost:8080/",
          "height": 51
        }
      },
      "source": [
        "train_datagen = ImageDataGenerator(rescale = 1./255,brightness_range=[0.3,1.4],width_shift_range=0.2,height_shift_range=0.2,)\n",
        "test_datagen = ImageDataGenerator(rescale = 1./255)\n",
        "\n",
        "training_set = train_datagen.flow_from_directory(train,target_size=(200,200),batch_size=128,shuffle=True,class_mode='categorical')\n",
        "test_set = test_datagen.flow_from_directory(test,target_size=(200,200),batch_size=128,shuffle=True,class_mode='categorical')\n"
      ],
      "execution_count": null,
      "outputs": [
        {
          "output_type": "stream",
          "text": [
            "Found 76125 images belonging to 29 classes.\n",
            "Found 10875 images belonging to 29 classes.\n"
          ],
          "name": "stdout"
        }
      ]
    },
    {
      "cell_type": "code",
      "metadata": {
        "id": "P8ZSxupHpgFL",
        "outputId": "76cd226e-8cb2-455b-85f4-afb8686713b8",
        "colab": {
          "base_uri": "https://localhost:8080/",
          "height": 595
        }
      },
      "source": [
        "model = tf.keras.models.Sequential([\n",
        "    tf.keras.layers.Conv2D(8, (3,3), activation = 'relu', input_shape = (200, 200, 3)),\n",
        "    tf.keras.layers.MaxPool2D((2,2)),\n",
        "    \n",
        "    tf.keras.layers.Conv2D(16, (3,3), activation = 'relu'),\n",
        "    tf.keras.layers.MaxPool2D((2,2)),\n",
        "    \n",
        "    tf.keras.layers.Conv2D(32, (3,3), activation = 'relu'),\n",
        "    tf.keras.layers.MaxPool2D((2,2)),\n",
        "    \n",
        "    tf.keras.layers.Conv2D(64, (3,3), activation = 'relu'),\n",
        "    \n",
        "    tf.keras.layers.MaxPool2D((2,2)),\n",
        "    \n",
        "    tf.keras.layers.Conv2D(128, (3,3), activation = 'relu'),\n",
        "    tf.keras.layers.MaxPool2D((2,2)),\n",
        "    \n",
        "    tf.keras.layers.Flatten(),\n",
        "    \n",
        "    tf.keras.layers.Dense(512, activation = 'relu'),\n",
        "    tf.keras.layers.Dense(29, activation = 'softmax'),\n",
        "])\n",
        "model.summary()"
      ],
      "execution_count": null,
      "outputs": [
        {
          "output_type": "stream",
          "text": [
            "Model: \"sequential_1\"\n",
            "_________________________________________________________________\n",
            "Layer (type)                 Output Shape              Param #   \n",
            "=================================================================\n",
            "conv2d_5 (Conv2D)            (None, 198, 198, 8)       224       \n",
            "_________________________________________________________________\n",
            "max_pooling2d_5 (MaxPooling2 (None, 99, 99, 8)         0         \n",
            "_________________________________________________________________\n",
            "conv2d_6 (Conv2D)            (None, 97, 97, 16)        1168      \n",
            "_________________________________________________________________\n",
            "max_pooling2d_6 (MaxPooling2 (None, 48, 48, 16)        0         \n",
            "_________________________________________________________________\n",
            "conv2d_7 (Conv2D)            (None, 46, 46, 32)        4640      \n",
            "_________________________________________________________________\n",
            "max_pooling2d_7 (MaxPooling2 (None, 23, 23, 32)        0         \n",
            "_________________________________________________________________\n",
            "conv2d_8 (Conv2D)            (None, 21, 21, 64)        18496     \n",
            "_________________________________________________________________\n",
            "max_pooling2d_8 (MaxPooling2 (None, 10, 10, 64)        0         \n",
            "_________________________________________________________________\n",
            "conv2d_9 (Conv2D)            (None, 8, 8, 128)         73856     \n",
            "_________________________________________________________________\n",
            "max_pooling2d_9 (MaxPooling2 (None, 4, 4, 128)         0         \n",
            "_________________________________________________________________\n",
            "flatten_1 (Flatten)          (None, 2048)              0         \n",
            "_________________________________________________________________\n",
            "dense_2 (Dense)              (None, 512)               1049088   \n",
            "_________________________________________________________________\n",
            "dense_3 (Dense)              (None, 29)                14877     \n",
            "=================================================================\n",
            "Total params: 1,162,349\n",
            "Trainable params: 1,162,349\n",
            "Non-trainable params: 0\n",
            "_________________________________________________________________\n"
          ],
          "name": "stdout"
        }
      ]
    },
    {
      "cell_type": "code",
      "metadata": {
        "id": "PuwR78Kd6wiF",
        "outputId": "58b7cf14-0387-4a3e-8151-1a09f102c90f",
        "colab": {
          "base_uri": "https://localhost:8080/",
          "height": 139
        }
      },
      "source": [
        "model.compile(optimizer='adam',loss='categorical_crossentropy',metrics=[\"accuracy\"])\n",
        "history = model.fit(training_set,epochs=3,validation_data=test_set)"
      ],
      "execution_count": null,
      "outputs": [
        {
          "output_type": "stream",
          "text": [
            "Epoch 1/3\n",
            "595/595 [==============================] - 125s 210ms/step - loss: 0.8511 - accuracy: 0.7421 - val_loss: 0.1384 - val_accuracy: 0.9574\n",
            "Epoch 2/3\n",
            "595/595 [==============================] - 123s 207ms/step - loss: 0.0836 - accuracy: 0.9729 - val_loss: 0.0495 - val_accuracy: 0.9850\n",
            "Epoch 3/3\n",
            "595/595 [==============================] - 123s 207ms/step - loss: 0.0388 - accuracy: 0.9880 - val_loss: 0.0346 - val_accuracy: 0.9909\n"
          ],
          "name": "stdout"
        }
      ]
    },
    {
      "cell_type": "code",
      "metadata": {
        "id": "Vvonj5i4YRBe",
        "outputId": "642bf47b-ac76-445c-91b8-57101711ebb0",
        "colab": {
          "base_uri": "https://localhost:8080/",
          "height": 510
        }
      },
      "source": [
        "dictrev = {}\n",
        "for i in test_set.class_indices:\n",
        "    dictrev[test_set.class_indices[i]] = i\n",
        "\n",
        "dictrev"
      ],
      "execution_count": null,
      "outputs": [
        {
          "output_type": "execute_result",
          "data": {
            "text/plain": [
              "{0: 'A',\n",
              " 1: 'B',\n",
              " 2: 'C',\n",
              " 3: 'D',\n",
              " 4: 'E',\n",
              " 5: 'F',\n",
              " 6: 'G',\n",
              " 7: 'H',\n",
              " 8: 'I',\n",
              " 9: 'J',\n",
              " 10: 'K',\n",
              " 11: 'L',\n",
              " 12: 'M',\n",
              " 13: 'N',\n",
              " 14: 'O',\n",
              " 15: 'P',\n",
              " 16: 'Q',\n",
              " 17: 'R',\n",
              " 18: 'S',\n",
              " 19: 'T',\n",
              " 20: 'U',\n",
              " 21: 'V',\n",
              " 22: 'W',\n",
              " 23: 'X',\n",
              " 24: 'Y',\n",
              " 25: 'Z',\n",
              " 26: 'del',\n",
              " 27: 'nothing',\n",
              " 28: 'space'}"
            ]
          },
          "metadata": {
            "tags": []
          },
          "execution_count": 15
        }
      ]
    },
    {
      "cell_type": "code",
      "metadata": {
        "id": "0M3RDrqRVWbi",
        "outputId": "60c04e36-78fb-454b-c542-c3e8b005c92a",
        "colab": {
          "base_uri": "https://localhost:8080/",
          "height": 493
        }
      },
      "source": [
        "for img in os.listdir(TEST_DIR):\n",
        "  temp = image.load_img(TEST_DIR+'/'+img)\n",
        "  temp = image.img_to_array(temp)\n",
        "  temp = np.expand_dims(temp,axis=0)\n",
        "  res = model.predict(temp)\n",
        "  print(img,dictrev[res.argmax()])"
      ],
      "execution_count": null,
      "outputs": [
        {
          "output_type": "stream",
          "text": [
            "Q_test.jpg Q\n",
            "P_test.jpg P\n",
            "T_test.jpg T\n",
            "I_test.jpg I\n",
            "N_test.jpg N\n",
            "J_test.jpg J\n",
            "V_test.jpg V\n",
            "S_test.jpg S\n",
            "space_test.jpg space\n",
            "F_test.jpg F\n",
            "L_test.jpg L\n",
            "Y_test.jpg Y\n",
            "Z_test.jpg Z\n",
            "H_test.jpg H\n",
            "C_test.jpg C\n",
            "R_test.jpg R\n",
            "U_test.jpg U\n",
            "D_test.jpg D\n",
            "W_test.jpg W\n",
            "G_test.jpg G\n",
            "A_test.jpg A\n",
            "K_test.jpg K\n",
            "M_test.jpg X\n",
            "nothing_test.jpg nothing\n",
            "E_test.jpg E\n",
            "B_test.jpg B\n",
            "X_test.jpg X\n",
            "O_test.jpg O\n"
          ],
          "name": "stdout"
        }
      ]
    },
    {
      "cell_type": "code",
      "metadata": {
        "id": "t81ZLU1XhPHM"
      },
      "source": [
        "model.save('asl_model1.h5')"
      ],
      "execution_count": null,
      "outputs": []
    }
  ]
}